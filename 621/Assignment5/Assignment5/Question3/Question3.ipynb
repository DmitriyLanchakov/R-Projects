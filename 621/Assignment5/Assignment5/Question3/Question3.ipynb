{
 "cells": [
  {
   "cell_type": "markdown",
   "metadata": {},
   "source": [
    "# Question 3"
   ]
  },
  {
   "cell_type": "markdown",
   "metadata": {},
   "source": [
    "## A)"
   ]
  },
  {
   "cell_type": "markdown",
   "metadata": {},
   "source": [
    "### Correlation matrix "
   ]
  },
  {
   "cell_type": "code",
   "execution_count": 67,
   "metadata": {
    "collapsed": false
   },
   "outputs": [
    {
     "name": "stdout",
     "output_type": "stream",
     "text": [
      "     A1   A2   A3\n",
      "A1  1.0  0.5  0.2\n",
      "A2  0.5  1.0 -0.4\n",
      "A3  0.2 -0.4  1.0\n"
     ]
    }
   ],
   "source": [
    "symbols=['A1','A2','A3']\n",
    "corr_matrix = pd.DataFrame({'A1' : [1.0,0.5,0.2],\n",
    "                                  'A2' : [0.5,1.0,-0.4],\n",
    "                                  'A3' : [0.2,-0.4,1.0]\n",
    "                                 })\n",
    "\n",
    "corr_matrix=corr_matrix.set_index([['A1', 'A2','A3']])\n",
    "print(corr_matrix)\n",
    "\n",
    "\n",
    "initial_stock_price=[100,101,98]\n",
    "mu=[0.03,0.06,0.02]\n",
    "sigma=[0.05,0.2,0.15]\n"
   ]
  },
  {
   "cell_type": "markdown",
   "metadata": {},
   "source": [
    "### Cholesky Decomposition"
   ]
  },
  {
   "cell_type": "code",
   "execution_count": 68,
   "metadata": {
    "collapsed": false
   },
   "outputs": [
    {
     "name": "stdout",
     "output_type": "stream",
     "text": [
      "Upper Matrix \n",
      "[[ 1.          0.5         0.2       ]\n",
      " [ 0.          0.8660254  -0.57735027]\n",
      " [ 0.          0.          0.79162281]]\n",
      "Lower Matrix \n",
      "[[ 1.          0.          0.        ]\n",
      " [ 0.5         0.8660254   0.        ]\n",
      " [ 0.2        -0.57735027  0.79162281]]\n"
     ]
    }
   ],
   "source": [
    "from scipy.linalg import cholesky\n",
    "\n",
    "upper_cholesky = cholesky(corr_matrix, lower=False)\n",
    "print(\"Upper Matrix \")\n",
    "print(upper_cholesky)\n",
    "\n",
    "lower_cholesky = cholesky(corr_matrix, lower=True)\n",
    "print(\"Lower Matrix \")\n",
    "print(lower_cholesky)\n",
    "\n"
   ]
  },
  {
   "cell_type": "markdown",
   "metadata": {},
   "source": [
    "## B)"
   ]
  },
  {
   "cell_type": "code",
   "execution_count": 69,
   "metadata": {
    "collapsed": false
   },
   "outputs": [],
   "source": [
    "import numpy as np \n",
    "from pandas import bdate_range  \n",
    "\n",
    "num_assets = 3\n",
    "dt = 1./365\n",
    "num_steps=100\n",
    "num_sim = 1000\n",
    "dates = bdate_range(start=pd.to_datetime('today').date(), periods=num_steps)\n"
   ]
  },
  {
   "cell_type": "markdown",
   "metadata": {},
   "source": [
    "###  Correlated Brownian Motion. "
   ]
  },
  {
   "cell_type": "code",
   "execution_count": 70,
   "metadata": {
    "collapsed": false
   },
   "outputs": [
    {
     "name": "stdout",
     "output_type": "stream",
     "text": [
      "[[-0.02575197  0.05101558 -0.06102629]\n",
      " [-0.02442023 -0.1103201  -0.03043758]\n",
      " [ 0.09321305 -0.05112289  0.43905788]\n",
      " ..., \n",
      " [-0.02128451 -0.08002611  0.20643784]\n",
      " [ 0.10634644  0.34986094  0.00389039]\n",
      " [-0.06591741 -0.05000563 -0.05746486]]\n"
     ]
    }
   ],
   "source": [
    "np.random.seed(9999)\n",
    "rand_val=np.random.standard_normal(size=(num_steps*num_sim,num_assets))\n",
    "corr_values=rand_val.dot(upper_cholesky)*sigma\n",
    "print (corr_values)\n"
   ]
  },
  {
   "cell_type": "markdown",
   "metadata": {},
   "source": [
    "### 3-D Dataframe to store 3 stocks simulation prices\n",
    "\n",
    "1st Dimension (X-axis) - Time step \n",
    "\n",
    "2nd Dimension (Y-axis) - Spot prices\n",
    "\n",
    "3rd Dimension (Z-axis) - Different Assets"
   ]
  },
  {
   "cell_type": "code",
   "execution_count": 71,
   "metadata": {
    "collapsed": false
   },
   "outputs": [],
   "source": [
    "from pandas_datareader import data\n",
    "from pandas import Panel, DataFrame\n",
    "\n",
    "prices = Panel(items=symbols, minor_axis=range(num_sim), major_axis=dates)\n",
    "\n",
    "initial_stock_price = np.array(initial_stock_price)\n",
    "\n",
    "initial_stock_price= np.tile(initial_stock_price, num_sim)\n",
    "\n",
    "initial_stock_price= initial_stock_price.reshape((3,1000), order='F')\n",
    "\n",
    "prices.ix[:, 0, :] = initial_stock_price\n",
    "prices.ix[:, 0, :].to_csv(\"testing.csv\")"
   ]
  },
  {
   "cell_type": "code",
   "execution_count": 72,
   "metadata": {
    "collapsed": false
   },
   "outputs": [
    {
     "name": "stdout",
     "output_type": "stream",
     "text": [
      "A1     99.816760\n",
      "A2    105.535223\n",
      "A3     92.627293\n",
      "Name: 1, dtype: float64\n",
      "99.3264255203696\n"
     ]
    }
   ],
   "source": [
    "for i in range(1,num_steps):\n",
    "    prices.ix[:, i, :] = prices.ix[:, i-1,:]*np.exp((mu-0.5*np.power(sigma,2))*dt + np.sqrt(dt)*corr_values[i::num_steps])  \n",
    "\n",
    "print (prices.ix[:, -1, 1]) \n",
    "print (prices.ix[:, -1, 1].mean())"
   ]
  },
  {
   "cell_type": "markdown",
   "metadata": {},
   "source": [
    "### Plotting "
   ]
  },
  {
   "cell_type": "code",
   "execution_count": 73,
   "metadata": {
    "collapsed": false,
    "scrolled": false
   },
   "outputs": [
    {
     "data": {
      "image/png": "[encoded data removed]",
      "text/plain": [
       "<matplotlib.figure.Figure at 0x1ffa7e49e80>"
      ]
     },
     "metadata": {},
     "output_type": "display_data"
    }
   ],
   "source": [
    "%matplotlib inline \n",
    "prices.ix[:, :, 666].plot(title='Sample Path', legend=True);"
   ]
  },
  {
   "cell_type": "markdown",
   "metadata": {},
   "source": [
    "## C)"
   ]
  },
  {
   "cell_type": "markdown",
   "metadata": {},
   "source": [
    "### Vanilla Basket"
   ]
  },
  {
   "cell_type": "code",
   "execution_count": 74,
   "metadata": {
    "collapsed": false
   },
   "outputs": [
    {
     "name": "stdout",
     "output_type": "stream",
     "text": [
      "Value of Vanilla Basket Call Option ::  1.9403923404126777\n",
      "Value of Vanilla Basket Put Option ::  1.2426791138763966\n"
     ]
    },
    {
     "data": {
      "text/plain": [
       "1.2426791138763966"
      ]
     },
     "execution_count": 74,
     "metadata": {},
     "output_type": "execute_result"
    }
   ],
   "source": [
    "def Vanilla_Basket(optionType,K,num_sim,prices,printer=False):\n",
    "    sum_value=0.0\n",
    "\n",
    "    if optionType==\"c\":\n",
    "        option=1\n",
    "    else:\n",
    "        option=-1\n",
    "    for i in range(0,num_sim):\n",
    "        sum_value=max(option*(prices.ix[:, -1, i].mean()-K),0)+sum_value\n",
    "  \n",
    "    valueOption=sum_value/num_sim\n",
    "    \n",
    "    if printer:\n",
    "        if optionType==\"c\":\n",
    "            print(\"Value of Vanilla Basket Call Option :: \", valueOption)\n",
    "        \n",
    "        else:\n",
    "            print(\"Value of Vanilla Basket Put Option :: \", valueOption)\n",
    "    \n",
    "    return valueOption\n",
    "\n",
    "Vanilla_Basket(optionType=\"c\",K=100,num_sim=num_sim,prices=prices,printer=True)\n",
    "Vanilla_Basket(optionType=\"p\",K=100,num_sim=num_sim,prices=prices,printer=True)"
   ]
  },
  {
   "cell_type": "markdown",
   "metadata": {},
   "source": [
    "## D)\n",
    "\n",
    "### 1) \n",
    "If the asset 2 (S2) hits the barrier B < S2(t) for some t then the payoff\n",
    "of the option is equal to an European Call option written on the asset\n",
    "2"
   ]
  },
  {
   "cell_type": "code",
   "execution_count": 75,
   "metadata": {
    "collapsed": false
   },
   "outputs": [
    {
     "name": "stdout",
     "output_type": "stream",
     "text": [
      "Value of European_CallOption_Asset option on Asset  A2  ::  5.67393553249\n"
     ]
    },
    {
     "data": {
      "text/plain": [
       "5.6739355324914991"
      ]
     },
     "execution_count": 75,
     "metadata": {},
     "output_type": "execute_result"
    }
   ],
   "source": [
    "def European_CallOption_Asset(optionType,K,num_sim,prices,assetNum,printer=False):\n",
    "    sum_value=0.0\n",
    "    assetID=\"A\"+str(assetNum)\n",
    "    if optionType==\"c\":\n",
    "        option=1\n",
    "    else:\n",
    "        option=-1\n",
    "    for i in range(0,num_sim):\n",
    "        sum_value=max(option*(prices.ix[assetID, -1,i]-K),0)+sum_value\n",
    "\n",
    "    \n",
    "    valueOption=sum_value/num_sim\n",
    "    if printer:    \n",
    "        print (\"Value of European_CallOption_Asset option on Asset \" , assetID,\" :: \", valueOption)\n",
    "    \n",
    "    return valueOption\n",
    "\n",
    "European_CallOption_Asset(optionType=\"c\",K=100,num_sim=num_sim,prices=prices,assetNum=2,printer=True)"
   ]
  },
  {
   "cell_type": "markdown",
   "metadata": {},
   "source": [
    "### 2)"
   ]
  },
  {
   "cell_type": "code",
   "execution_count": 76,
   "metadata": {
    "collapsed": false
   },
   "outputs": [
    {
     "name": "stdout",
     "output_type": "stream",
     "text": [
      "Value of European_Power_Option option on Asset  A2  ::  86.9940945605\n"
     ]
    },
    {
     "data": {
      "text/plain": [
       "86.99409456050364"
      ]
     },
     "execution_count": 76,
     "metadata": {},
     "output_type": "execute_result"
    }
   ],
   "source": [
    "def European_Power_Option(optionType,K,num_sim,prices,assetNum,printer=False):\n",
    "    sum_value=0.0\n",
    "    assetID=\"A\"+str(assetNum)\n",
    "    if optionType==\"c\":\n",
    "        option=1\n",
    "    else:\n",
    "        option=-1\n",
    "    for i in range(0,num_sim):\n",
    "        \n",
    "        sum_value=np.power(max(option*(prices.ix[assetID, -1,i]-K),0),2)+sum_value\n",
    "\n",
    "         \n",
    "    valueOption=sum_value/num_sim\n",
    "    if printer: \n",
    "        print (\"Value of European_Power_Option option on Asset \" , assetID,\" :: \", valueOption)\n",
    "    return valueOption\n",
    "\n",
    "European_Power_Option(optionType=\"c\",K=100,num_sim=num_sim,prices=prices,assetNum=2,printer=True)"
   ]
  },
  {
   "cell_type": "markdown",
   "metadata": {},
   "source": [
    "### 3)"
   ]
  },
  {
   "cell_type": "code",
   "execution_count": 77,
   "metadata": {
    "collapsed": false
   },
   "outputs": [
    {
     "name": "stdout",
     "output_type": "stream",
     "text": [
      "Value of European_Asian_Option option on Asset  A2  ::  3.550392244418431\n"
     ]
    },
    {
     "data": {
      "text/plain": [
       "3.550392244418431"
      ]
     },
     "execution_count": 77,
     "metadata": {},
     "output_type": "execute_result"
    }
   ],
   "source": [
    "def European_Asian_Option(optionType,K,num_sim,prices,assetNum,printer=False):\n",
    "    sum_value=0.0\n",
    "    assetID=\"A\"+str(assetNum)\n",
    "    if optionType==\"c\":\n",
    "        option=1\n",
    "    else:\n",
    "        option=-1\n",
    "    for i in range(0,num_sim):\n",
    "        averageStockPrice=prices.ix[assetID, :,i ].mean()\n",
    "        #print prices.ix[i, -1, \"A2\"],powerStocPrice\n",
    "        sum_value=max(option*(averageStockPrice-K),0)+sum_value\n",
    "        \n",
    "    valueOption=sum_value/num_sim\n",
    "    if printer: \n",
    "        print (\"Value of European_Asian_Option option on Asset \" , assetID,\" :: \", valueOption)\n",
    "\n",
    "    return valueOption\n",
    "        \n",
    "European_Asian_Option(optionType=\"c\",K=100,num_sim=num_sim,prices=prices,assetNum=2,printer=True)"
   ]
  },
  {
   "cell_type": "markdown",
   "metadata": {},
   "source": [
    "### 4)"
   ]
  },
  {
   "cell_type": "code",
   "execution_count": 78,
   "metadata": {
    "collapsed": false
   },
   "outputs": [
    {
     "name": "stdout",
     "output_type": "stream",
     "text": [
      "Value of Complex Exotic option ::  9.9875351742\n"
     ]
    }
   ],
   "source": [
    "barrier=104\n",
    "optionType=\"c\"\n",
    "strike=100\n",
    "\n",
    "\n",
    "sum_value=0\n",
    "for i in range(0,num_sim):\n",
    "    if((prices.ix[\"A2\", :, i]>barrier).any()):\n",
    "        sum_value=sum_value+European_CallOption_Asset(optionType=optionType,K=strike,num_sim=num_sim,prices=prices,assetNum=2)\n",
    "    elif( prices.ix[\"A2\", :, i].max() > prices.ix[\"A3\", :, i].max() ):\n",
    "        sum_value=sum_value+European_Power_Option(optionType=optionType,K=strike,num_sim=num_sim,prices=prices,assetNum=2)\n",
    "    elif( prices.ix[\"A2\", :, i].mean() > prices.ix[\"A3\", :, i].mean() ):\n",
    "        sum_value=sum_value+European_Asian_Option(optionType=optionType,K=strike,num_sim=num_sim,prices=prices,assetNum=2)\n",
    "    else:\n",
    "        sum_value=sum_value+Vanilla_Basket(optionType=optionType,K=strike,num_sim=num_sim,prices=prices)\n",
    "\n",
    "exoticOptionValue=sum_value/num_sim\n",
    "print (\"Value of Complex Exotic option :: \",exoticOptionValue)"
   ]
  },
  {
   "cell_type": "code",
   "execution_count": null,
   "metadata": {
    "collapsed": true
   },
   "outputs": [],
   "source": []
  }
 ],
 "metadata": {
  "kernelspec": {
   "display_name": "Python 3",
   "language": "python",
   "name": "python3"
  },
  "language_info": {
   "codemirror_mode": {
    "name": "ipython",
    "version": 3
   },
   "file_extension": ".py",
   "mimetype": "text/x-python",
   "name": "python",
   "nbconvert_exporter": "python",
   "pygments_lexer": "ipython3",
   "version": "3.6.0"
  }
 },
 "nbformat": 4,
 "nbformat_minor": 2
}
