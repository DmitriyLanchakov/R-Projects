{
 "cells": [
  {
   "cell_type": "code",
   "execution_count": null,
   "metadata": {
    "collapsed": true
   },
   "outputs": [],
   "source": [
    "iv=[]\n",
    "S0=770.05\n",
    "r=0.66/100\n",
    "\n",
    "for index, row in option_df.iterrows():\n",
    "#     print(row.Price, row.K, row.Time)\n",
    "    iv.append(find_vol(row.Price, 'c', S0, row.Strike, row.Time, r))\n",
    "    \n",
    "# print(iv)\n",
    "option_df['Imp_Vol'] = pd.Series(iv, index=option_df.index)\n",
    "\n",
    "option_df = option_df[np.isfinite(option_df['Imp_Vol'])]\n",
    "\n",
    "\n",
    "dupiare_iv=[]\n",
    "for index, row in option_df.iterrows():\n",
    "#     strike_temp=melted_interpolate.iloc[i][index]\n",
    "#     time_temp=melted_interpolate.iloc[i][index]\n",
    "    dupiare_iv.append(Dupiare_One(row.Strike,row.Time,row.Imp_Vol))\n",
    "\n",
    "option_df['Dupiare1_IV']=dupiare_iv\n",
    "\n",
    "dupiare_price=[]\n",
    "\n",
    "for index,row in option_df.iterrows():\n",
    "    dupiare_price.append(bs_price(cp_flag='c',K=row.Strike,r=r,S=S0,v=row.Dupiare1_IV,T=row.Time))\n",
    "\n",
    "option_df['Dupiar_Price']=np.round(dupiare_price,2)\n",
    "\n",
    "\n",
    "final_option_df=option_df\n",
    "final_option_df.columns=['Time to maturity', 'Strike price', 'Option market price', 'Implied Volatility', \\\n",
    "'Local Volatility', 'Dupire-Price']\n",
    "\n",
    "final_option_df.to_csv(\"SPXvolatility.xls\")"
   ]
  }
 ],
 "metadata": {
  "kernelspec": {
   "display_name": "Python 3",
   "language": "python",
   "name": "python3"
  },
  "language_info": {
   "codemirror_mode": {
    "name": "ipython",
    "version": 3
   },
   "file_extension": ".py",
   "mimetype": "text/x-python",
   "name": "python",
   "nbconvert_exporter": "python",
   "pygments_lexer": "ipython3",
   "version": "3.6.0"
  }
 },
 "nbformat": 4,
 "nbformat_minor": 2
}
